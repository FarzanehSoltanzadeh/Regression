{
 "cells": [
  {
   "cell_type": "code",
   "execution_count": 91,
   "metadata": {},
   "outputs": [],
   "source": [
    "import numpy as np\n",
    "import pandas as pd\n",
    "import matplotlib.pyplot as plt\n",
    "import seaborn as sns"
   ]
  },
  {
   "cell_type": "markdown",
   "metadata": {},
   "source": [
    "Sample Dataset"
   ]
  },
  {
   "cell_type": "code",
   "execution_count": 92,
   "metadata": {},
   "outputs": [
    {
     "data": {
      "text/html": [
       "<div>\n",
       "<style scoped>\n",
       "    .dataframe tbody tr th:only-of-type {\n",
       "        vertical-align: middle;\n",
       "    }\n",
       "\n",
       "    .dataframe tbody tr th {\n",
       "        vertical-align: top;\n",
       "    }\n",
       "\n",
       "    .dataframe thead th {\n",
       "        text-align: right;\n",
       "    }\n",
       "</style>\n",
       "<table border=\"1\" class=\"dataframe\">\n",
       "  <thead>\n",
       "    <tr style=\"text-align: right;\">\n",
       "      <th></th>\n",
       "      <th>X</th>\n",
       "      <th>Y</th>\n",
       "    </tr>\n",
       "  </thead>\n",
       "  <tbody>\n",
       "    <tr>\n",
       "      <th>0</th>\n",
       "      <td>1.802697</td>\n",
       "      <td>8.934442</td>\n",
       "    </tr>\n",
       "    <tr>\n",
       "      <th>1</th>\n",
       "      <td>0.194752</td>\n",
       "      <td>6.343195</td>\n",
       "    </tr>\n",
       "    <tr>\n",
       "      <th>2</th>\n",
       "      <td>4.632185</td>\n",
       "      <td>15.246533</td>\n",
       "    </tr>\n",
       "    <tr>\n",
       "      <th>3</th>\n",
       "      <td>7.249339</td>\n",
       "      <td>15.934965</td>\n",
       "    </tr>\n",
       "    <tr>\n",
       "      <th>4</th>\n",
       "      <td>4.202036</td>\n",
       "      <td>12.653750</td>\n",
       "    </tr>\n",
       "  </tbody>\n",
       "</table>\n",
       "</div>"
      ],
      "text/plain": [
       "          X          Y\n",
       "0  1.802697   8.934442\n",
       "1  0.194752   6.343195\n",
       "2  4.632185  15.246533\n",
       "3  7.249339  15.934965\n",
       "4  4.202036  12.653750"
      ]
     },
     "execution_count": 92,
     "metadata": {},
     "output_type": "execute_result"
    }
   ],
   "source": [
    "m = 100 # number of training examples\n",
    "np.random.seed(11)\n",
    "\n",
    "X = np.random.rand(m) * 10\n",
    "Y = 1.3 * X + 5 + (np.random.rand(m)*5)\n",
    "\n",
    "data = pd.DataFrame({'X': X, 'Y': Y})\n",
    "data.head()"
   ]
  },
  {
   "cell_type": "code",
   "execution_count": 93,
   "metadata": {},
   "outputs": [
    {
     "data": {
      "image/png": "[encoded data removed]",
      "text/plain": [
       "<Figure size 640x480 with 1 Axes>"
      ]
     },
     "metadata": {},
     "output_type": "display_data"
    }
   ],
   "source": [
    "sns.scatterplot(x='X', y='Y', data=data, color='blue', s=50)\n",
    "plt.title('Generated Data')\n",
    "plt.show()"
   ]
  },
  {
   "cell_type": "markdown",
   "metadata": {},
   "source": [
    "# Gradient Descent\n",
    "\n",
    "**Goal**: to find the parameters (W, b) that minimize the cost function J in linear regression.\n",
    "- **Model**: f(x) = Wx + b\n",
    "- **Parameters**: W (weight), b (bias)\n",
    "- **Cost Function**: J = (1/2m) Σ(f(x) - y)²\n",
    "- **Learning Rate**: α\n",
    "### Algorithm:\n",
    "1. Initialize parameters W and b to 0 or small random values.\n",
    "\n",
    "2. Repeat until convergence or for a fixed number of iterations:\n",
    "   \n",
    "   a. Compute predictions: f(x) = Wx + b\n",
    "   \n",
    "   b. Calculate gradients:\n",
    "      - ∂J/∂W = (1/m) Σ((f(x) - y) * x)\n",
    "      - ∂J/∂b = (1/m) Σ(f(x) - y)\n",
    "   \n",
    "   c. Update parameters:\n",
    "      - W = W - α * (∂J/∂W)\n",
    "      - b = b - α * (∂J/∂b)"
   ]
  },
  {
   "cell_type": "code",
   "execution_count": 94,
   "metadata": {},
   "outputs": [],
   "source": [
    "def batch_gradient_descent(X, Y, learning_rate=0.01, epochs=1000):\n",
    "    W, b = 0, 0\n",
    "    m = len(X)\n",
    "\n",
    "    for _ in range(epochs):\n",
    "        y_pred = W * X + b\n",
    "\n",
    "        dW = (1 / m) * np.sum((y_pred - Y) * X)\n",
    "        db = (1 / m) * np.sum(y_pred - Y)\n",
    "\n",
    "        W = W - learning_rate * dW\n",
    "        b = b - learning_rate * db\n",
    "    \n",
    "    return W, b"
   ]
  },
  {
   "cell_type": "code",
   "execution_count": 95,
   "metadata": {},
   "outputs": [],
   "source": [
    "def stochastic_gradient_descent(X, Y, learning_rate=0.01, epochs=1000):\n",
    "    W, b = 0, 0\n",
    "    m = len(X)\n",
    "\n",
    "    for _ in range(epochs):\n",
    "        for i in range(m):\n",
    "            xi, yi = X[i], Y[i]\n",
    "            yi_pred = W * xi + b\n",
    "\n",
    "            dW = (yi_pred - yi) * xi\n",
    "            db = (yi_pred - yi)\n",
    "\n",
    "            W = W - learning_rate * dW\n",
    "            b = b - learning_rate * db\n",
    "    return W, b"
   ]
  },
  {
   "cell_type": "code",
   "execution_count": 103,
   "metadata": {},
   "outputs": [],
   "source": [
    "def mini_batch_gradient_descent(X, Y, learning_rate=0.01, epochs=1000, batch_size=20):\n",
    "    W, b = 0, 0\n",
    "    m = len(X)\n",
    "    num_batches = m // batch_size\n",
    "\n",
    "    for _ in range(epochs):\n",
    "        indices = np.random.permutation(m)\n",
    "        X_shuffled = X[indices]\n",
    "        Y_shuffled = Y[indices]\n",
    "\n",
    "        for i in range(0, m, batch_size):\n",
    "            X_batch = X_shuffled[i:i + batch_size]\n",
    "            Y_batch = Y_shuffled[i:i + batch_size]\n",
    "\n",
    "            y_pred = W * X_batch + b\n",
    "\n",
    "            dW = (1 / batch_size) * np.sum((y_pred - Y_batch) * X_batch)\n",
    "            db = (1 / batch_size) * np.sum(y_pred - Y_batch)\n",
    "\n",
    "            W = W - learning_rate * dW\n",
    "            b = b - learning_rate * db\n",
    "\n",
    "    return W, b"
   ]
  },
  {
   "cell_type": "code",
   "execution_count": 104,
   "metadata": {},
   "outputs": [
    {
     "name": "stdout",
     "output_type": "stream",
     "text": [
      "Optimized parameters: W = 1.4195598544575252, b = 6.874730758491631\n",
      "Optimized parameters: W = 1.183136734822402, b = 7.307130152407751\n",
      "Optimized parameters: W = 1.3210275821082391, b = 7.576293507278856\n"
     ]
    }
   ],
   "source": [
    "x_train, y_train = data[\"X\"], data[\"Y\"]\n",
    "\n",
    "W, b = batch_gradient_descent(x_train, y_train)\n",
    "print(f\"Optimized parameters: W = {W}, b = {b}\")\n",
    "\n",
    "W, b = stochastic_gradient_descent(x_train, y_train)\n",
    "print(f\"Optimized parameters: W = {W}, b = {b}\")\n",
    "\n",
    "W, b = mini_batch_gradient_descent(x_train, y_train)\n",
    "print(f\"Optimized parameters: W = {W}, b = {b}\")\n"
   ]
  }
 ],
 "metadata": {
  "kernelspec": {
   "display_name": "Python 3",
   "language": "python",
   "name": "python3"
  },
  "language_info": {
   "codemirror_mode": {
    "name": "ipython",
    "version": 3
   },
   "file_extension": ".py",
   "mimetype": "text/x-python",
   "name": "python",
   "nbconvert_exporter": "python",
   "pygments_lexer": "ipython3",
   "version": "3.11.4"
  },
  "orig_nbformat": 4
 },
 "nbformat": 4,
 "nbformat_minor": 2
}
